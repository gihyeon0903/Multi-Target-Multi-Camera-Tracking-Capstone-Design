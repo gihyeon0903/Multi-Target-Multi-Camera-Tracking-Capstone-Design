{
 "cells": [
  {
   "cell_type": "markdown",
   "metadata": {},
   "source": [
    "# 2d img (u, v) to 3d world (x, y, z)"
   ]
  },
  {
   "cell_type": "markdown",
   "metadata": {},
   "source": [
    "#### Import Lib"
   ]
  },
  {
   "cell_type": "code",
   "execution_count": 1,
   "metadata": {},
   "outputs": [],
   "source": [
    "import cv2, json, copy\n",
    "import numpy as np"
   ]
  },
  {
   "cell_type": "markdown",
   "metadata": {},
   "source": [
    "#### Load Camera Parameters"
   ]
  },
  {
   "cell_type": "code",
   "execution_count": 2,
   "metadata": {},
   "outputs": [],
   "source": [
    "with open('./save_folder/camera_parameter_1103.json', 'r') as f:\n",
    "    camera_parameter = json.load(f)\n",
    "    \n",
    "Extrinsic_parameters = camera_parameter['Extrinsic parameters']\n",
    "Intrinsic_parameters = camera_parameter['Intrinsic parameters']\n",
    "\n",
    "translation_vector = Extrinsic_parameters['translation_vector']\n",
    "rotation_matrix = Extrinsic_parameters['rotation_matrix']\n",
    "\n",
    "Intrinsic_parameters    = np.mat(Intrinsic_parameters, np.float64)\n",
    "translation_vector      = np.mat(translation_vector, np.double)\n",
    "rotation_matrix         = rotation_matrix"
   ]
  },
  {
   "cell_type": "markdown",
   "metadata": {},
   "source": [
    "#### 2d image (u, v) -> 3d world (x, y, z) matrix calculation"
   ]
  },
  {
   "cell_type": "code",
   "execution_count": 3,
   "metadata": {},
   "outputs": [],
   "source": [
    "def pixel_to_world(img_points):\n",
    "    camera_intrinsics = Intrinsic_parameters\n",
    "    r                 = rotation_matrix\n",
    "    t                 = translation_vector\n",
    "    \n",
    "    K_inv = camera_intrinsics.I\n",
    "    R_inv = np.asmatrix(r).I\n",
    "    R_inv_T = np.dot(R_inv, np.asmatrix(t))\n",
    "    world_points = []\n",
    "    coords = np.zeros((3, 1), dtype=np.float64)\n",
    "    for img_point in img_points:\n",
    "        coords[0] = img_point[0]\n",
    "        coords[1] = img_point[1]\n",
    "        coords[2] = 1.0\n",
    "        cam_point = np.dot(K_inv, coords)\n",
    "        cam_R_inv = np.dot(R_inv, cam_point)\n",
    "        scale = R_inv_T[2][0] / cam_R_inv[2][0]\n",
    "        scale_world = np.multiply(scale, cam_R_inv)\n",
    "        world_point = np.asmatrix(scale_world) - np.asmatrix(R_inv_T)\n",
    "        pt = np.zeros((3, 1), dtype=np.float64)\n",
    "        pt[0] = world_point[0]\n",
    "        pt[1] = world_point[1]\n",
    "        pt[2] = 0\n",
    "        world_points.append(pt.T.tolist())\n",
    "\n",
    "    return world_points"
   ]
  },
  {
   "cell_type": "markdown",
   "metadata": {},
   "source": [
    "#### Test"
   ]
  },
  {
   "cell_type": "code",
   "execution_count": 4,
   "metadata": {},
   "outputs": [],
   "source": [
    "def mouse_callback(event, x, y, flags, param):\n",
    "    cv2.imshow(\"image\", image_origin)\n",
    "    image = copy.deepcopy(image_origin)\n",
    "\n",
    "    result = pixel_to_world(np.array(([[x, y]]), dtype=np.double))\n",
    "    x_w = int(result[0][0][0])\n",
    "    y_w = int(result[0][0][1])\n",
    "    \n",
    "    cv2.circle(image, (x, y), 6, (0, 0, 255), 3)\n",
    "    cv2.putText(image, text='({}, {})'.format(x_w, y_w), org=(x, y-10),\\\n",
    "        fontFace=cv2.FONT_HERSHEY_SIMPLEX, fontScale=0.5, color=(0, 0, 0), thickness=2)\n",
    "    cv2.imshow(\"image\", image)\n",
    "\n",
    "# 이미지 파일 읽기\n",
    "\n",
    "image_origin = cv2.imread(\"./img_folder/frame_img.jpg\")\n",
    "image_origin = cv2.resize(image_origin, dsize = (640, 480), interpolation = cv2.INTER_AREA)\n",
    "cv2.arrowedLine(image_origin, (167, 270), (283, 298), (0, 0, 0), thickness=2) # x축\n",
    "cv2.arrowedLine(image_origin, (167, 270), (88, 368), (0, 0, 0), thickness=2) # y축\n",
    "cv2.putText(image_origin, text='x-axis', org=(283+5, 298+5),\\\n",
    "        fontFace=cv2.FONT_HERSHEY_SIMPLEX, fontScale=1, color=(0, 0, 0), thickness=2)\n",
    "cv2.putText(image_origin, text='y-axis', org=(88+5, 368+5),\\\n",
    "        fontFace=cv2.FONT_HERSHEY_SIMPLEX, fontScale=1, color=(0, 0, 0), thickness=2)\n",
    "\n",
    "cv2.namedWindow(\"image\")\n",
    "cv2.setMouseCallback(\"image\", mouse_callback)\n",
    "cv2.waitKey(0)\n",
    "cv2.destroyAllWindows()\n"
   ]
  },
  {
   "cell_type": "code",
   "execution_count": null,
   "metadata": {},
   "outputs": [],
   "source": []
  }
 ],
 "metadata": {
  "kernelspec": {
   "display_name": "yolov5",
   "language": "python",
   "name": "python3"
  },
  "language_info": {
   "codemirror_mode": {
    "name": "ipython",
    "version": 3
   },
   "file_extension": ".py",
   "mimetype": "text/x-python",
   "name": "python",
   "nbconvert_exporter": "python",
   "pygments_lexer": "ipython3",
   "version": "3.9.18"
  }
 },
 "nbformat": 4,
 "nbformat_minor": 2
}
