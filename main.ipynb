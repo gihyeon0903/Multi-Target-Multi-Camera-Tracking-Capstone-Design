{
 "cells": [
  {
   "cell_type": "code",
   "execution_count": 1,
   "metadata": {},
   "outputs": [],
   "source": [
    "import cv2, json, time\n",
    "import numpy as np\n",
    "\n",
    "from custom_utils import *"
   ]
  },
  {
   "cell_type": "code",
   "execution_count": 2,
   "metadata": {},
   "outputs": [],
   "source": [
    "data_path = './CAMPUS/Parkinglot/view-GL2', './CAMPUS/Parkinglot/view-GL5'"
   ]
  },
  {
   "cell_type": "code",
   "execution_count": 5,
   "metadata": {},
   "outputs": [],
   "source": [
    "json_dts = [read_json('{}.json'.format(i)) for i in data_path]\n",
    "vids     = [cv2.VideoCapture('{}.mp4'.format(i)) for i in data_path]\n",
    "\n",
    "frame_idx = 0\n",
    "\n",
    "obj_dts1 = json_dts[0]\n",
    "obj_dts2 = json_dts[1]\n",
    "\n",
    "while(True):\n",
    "    # 이미지 read\n",
    "    ret1, image_cam1 = vids[0].read() # (h, w, 3)\n",
    "    ret2, image_cam2 = vids[1].read() \n",
    "    \n",
    "    image_cam1 = cv2.resize(image_cam1, (640, 360)) # (w, h)\n",
    "    image_cam2 = cv2.resize(image_cam2, (640, 360))\n",
    "\n",
    "    objs1 = obj_dts1[str(frame_idx)]\n",
    "    objs2 = obj_dts2[str(frame_idx)]\n",
    "    \n",
    "    ## Trackers\n",
    "    trks1 = convert_trks_shape(objs1)\n",
    "    trks2 = convert_trks_shape(objs2)\n",
    "    \n",
    "    draw_rectangle(image_cam1, trks1)\n",
    "    draw_rectangle(image_cam2, trks2)\n",
    "\n",
    "    ## find similarity matrix\n",
    "    similarity_matrix = calculate_similarity_matrix(trks1, trks2)\n",
    "    \n",
    "    ## find match, unmatch use Hungarian algorithm\n",
    "    assignments, cos_similarities = calculate_hungarian_algorithm(similarity_matrix)\n",
    "    matched   = assignments[cos_similarities > 0.5]\n",
    "    unmatched = calculate_non_matched(trks1, trks2, matched)\n",
    "    \n",
    "    ## print matched/unmatched info \n",
    "    print('----[ {:5d} frame matched/unmatched info ----]'.format(frame_idx))\n",
    "    \n",
    "    print('matched')\n",
    "    print(matched)\n",
    "    \n",
    "    print('unmatched_cam1')\n",
    "    print(unmatched[0])\n",
    "    \n",
    "    print('unmatched_cam2')\n",
    "    print(unmatched[1], end='\\n'*2)\n",
    "    \n",
    "    \n",
    "    if not ret1 or not ret2: \n",
    "        break\n",
    "    \n",
    "    # Display\n",
    "    full_cam = np.concatenate([image_cam1, image_cam2], axis=0)\n",
    "    cv2.imshow('full_cam', full_cam)\n",
    "    \n",
    "    \n",
    "    \n",
    "    frame_idx += 1\n",
    "    # time.sleep(0.1)\n",
    "    if cv2.waitKey(5) & 0xFF == ord('q'):\n",
    "        break\n",
    "\n",
    "\n",
    "vids[0].release()\n",
    "vids[1].release()\n",
    "cv2.destroyAllWindows()"
   ]
  },
  {
   "cell_type": "code",
   "execution_count": null,
   "metadata": {},
   "outputs": [],
   "source": []
  },
  {
   "cell_type": "code",
   "execution_count": null,
   "metadata": {},
   "outputs": [],
   "source": []
  },
  {
   "cell_type": "code",
   "execution_count": null,
   "metadata": {},
   "outputs": [],
   "source": []
  }
 ],
 "metadata": {
  "kernelspec": {
   "display_name": "yolov5",
   "language": "python",
   "name": "python3"
  },
  "language_info": {
   "codemirror_mode": {
    "name": "ipython",
    "version": 3
   },
   "file_extension": ".py",
   "mimetype": "text/x-python",
   "name": "python",
   "nbconvert_exporter": "python",
   "pygments_lexer": "ipython3",
   "version": "3.9.18"
  }
 },
 "nbformat": 4,
 "nbformat_minor": 2
}
